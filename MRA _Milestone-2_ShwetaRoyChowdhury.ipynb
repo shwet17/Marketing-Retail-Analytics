{
 "cells": [
  {
   "cell_type": "code",
   "execution_count": 2,
   "metadata": {
    "ExecuteTime": {
     "end_time": "2021-08-25T06:33:58.743913Z",
     "start_time": "2021-08-25T06:33:47.476916Z"
    }
   },
   "outputs": [
    {
     "name": "stdout",
     "output_type": "stream",
     "text": [
      "Collecting mlxtend\n",
      "  Downloading mlxtend-0.18.0-py2.py3-none-any.whl (1.3 MB)\n",
      "Requirement already satisfied: scikit-learn>=0.20.3 in d:\\python\\lib\\site-packages (from mlxtend) (0.24.1)\n",
      "Requirement already satisfied: pandas>=0.24.2 in d:\\python\\lib\\site-packages (from mlxtend) (1.2.0)\n",
      "Requirement already satisfied: matplotlib>=3.0.0 in d:\\python\\lib\\site-packages (from mlxtend) (3.2.2)\n",
      "Requirement already satisfied: numpy>=1.16.2 in d:\\python\\lib\\site-packages (from mlxtend) (1.20.1)\n",
      "Requirement already satisfied: scipy>=1.2.1 in d:\\python\\lib\\site-packages (from mlxtend) (1.4.1)\n",
      "Requirement already satisfied: joblib>=0.13.2 in d:\\python\\lib\\site-packages (from mlxtend) (0.14.1)\n",
      "Requirement already satisfied: setuptools in d:\\python\\lib\\site-packages (from mlxtend) (45.2.0.post20200210)\n",
      "Requirement already satisfied: threadpoolctl>=2.0.0 in c:\\users\\bithin roy\\appdata\\roaming\\python\\python37\\site-packages (from scikit-learn>=0.20.3->mlxtend) (2.1.0)\n",
      "Requirement already satisfied: python-dateutil>=2.7.3 in d:\\python\\lib\\site-packages (from pandas>=0.24.2->mlxtend) (2.8.1)\n",
      "Requirement already satisfied: pytz>=2017.3 in d:\\python\\lib\\site-packages (from pandas>=0.24.2->mlxtend) (2019.3)\n",
      "Requirement already satisfied: kiwisolver>=1.0.1 in d:\\python\\lib\\site-packages (from matplotlib>=3.0.0->mlxtend) (1.1.0)\n",
      "Requirement already satisfied: pyparsing!=2.0.4,!=2.1.2,!=2.1.6,>=2.0.1 in d:\\python\\lib\\site-packages (from matplotlib>=3.0.0->mlxtend) (2.4.6)\n",
      "Requirement already satisfied: cycler>=0.10 in d:\\python\\lib\\site-packages (from matplotlib>=3.0.0->mlxtend) (0.10.0)\n",
      "Requirement already satisfied: six>=1.5 in d:\\python\\lib\\site-packages (from python-dateutil>=2.7.3->pandas>=0.24.2->mlxtend) (1.14.0)\n",
      "Installing collected packages: mlxtend\n",
      "Successfully installed mlxtend-0.18.0\n",
      "Note: you may need to restart the kernel to use updated packages.\n"
     ]
    }
   ],
   "source": [
    "pip install mlxtend"
   ]
  },
  {
   "cell_type": "code",
   "execution_count": 3,
   "metadata": {
    "ExecuteTime": {
     "end_time": "2021-08-29T09:09:49.850344Z",
     "start_time": "2021-08-29T09:09:35.261666Z"
    }
   },
   "outputs": [],
   "source": [
    "#Loading Libraries\n",
    "import pandas as pd\n",
    "import numpy as np\n",
    "import seaborn as sns\n",
    "import matplotlib.pyplot as plt\n",
    "from mlxtend.preprocessing import TransactionEncoder\n",
    "from mlxtend.frequent_patterns import apriori\n",
    "from mlxtend.frequent_patterns import association_rules"
   ]
  },
  {
   "cell_type": "code",
   "execution_count": 4,
   "metadata": {
    "ExecuteTime": {
     "end_time": "2021-08-29T09:09:49.959246Z",
     "start_time": "2021-08-29T09:09:49.854017Z"
    }
   },
   "outputs": [],
   "source": [
    "df=pd.read_csv('dataset_group.csv')"
   ]
  },
  {
   "cell_type": "code",
   "execution_count": 5,
   "metadata": {
    "ExecuteTime": {
     "end_time": "2021-08-29T09:09:50.053419Z",
     "start_time": "2021-08-29T09:09:49.963224Z"
    },
    "scrolled": true
   },
   "outputs": [
    {
     "data": {
      "text/html": [
       "<div>\n",
       "<style scoped>\n",
       "    .dataframe tbody tr th:only-of-type {\n",
       "        vertical-align: middle;\n",
       "    }\n",
       "\n",
       "    .dataframe tbody tr th {\n",
       "        vertical-align: top;\n",
       "    }\n",
       "\n",
       "    .dataframe thead th {\n",
       "        text-align: right;\n",
       "    }\n",
       "</style>\n",
       "<table border=\"1\" class=\"dataframe\">\n",
       "  <thead>\n",
       "    <tr style=\"text-align: right;\">\n",
       "      <th></th>\n",
       "      <th>Date</th>\n",
       "      <th>Order_id</th>\n",
       "      <th>Product</th>\n",
       "    </tr>\n",
       "  </thead>\n",
       "  <tbody>\n",
       "    <tr>\n",
       "      <th>0</th>\n",
       "      <td>2018-01-01</td>\n",
       "      <td>1</td>\n",
       "      <td>yogurt</td>\n",
       "    </tr>\n",
       "    <tr>\n",
       "      <th>1</th>\n",
       "      <td>2018-01-01</td>\n",
       "      <td>1</td>\n",
       "      <td>pork</td>\n",
       "    </tr>\n",
       "    <tr>\n",
       "      <th>2</th>\n",
       "      <td>2018-01-01</td>\n",
       "      <td>1</td>\n",
       "      <td>sandwich bags</td>\n",
       "    </tr>\n",
       "    <tr>\n",
       "      <th>3</th>\n",
       "      <td>2018-01-01</td>\n",
       "      <td>1</td>\n",
       "      <td>lunch meat</td>\n",
       "    </tr>\n",
       "    <tr>\n",
       "      <th>4</th>\n",
       "      <td>2018-01-01</td>\n",
       "      <td>1</td>\n",
       "      <td>all- purpose</td>\n",
       "    </tr>\n",
       "  </tbody>\n",
       "</table>\n",
       "</div>"
      ],
      "text/plain": [
       "         Date  Order_id        Product\n",
       "0  2018-01-01         1         yogurt\n",
       "1  2018-01-01         1           pork\n",
       "2  2018-01-01         1  sandwich bags\n",
       "3  2018-01-01         1     lunch meat\n",
       "4  2018-01-01         1   all- purpose"
      ]
     },
     "execution_count": 5,
     "metadata": {},
     "output_type": "execute_result"
    }
   ],
   "source": [
    "df.head()"
   ]
  },
  {
   "cell_type": "code",
   "execution_count": 6,
   "metadata": {
    "ExecuteTime": {
     "end_time": "2021-08-29T09:09:52.681757Z",
     "start_time": "2021-08-29T09:09:52.672761Z"
    }
   },
   "outputs": [
    {
     "data": {
      "text/plain": [
       "(20641, 3)"
      ]
     },
     "execution_count": 6,
     "metadata": {},
     "output_type": "execute_result"
    }
   ],
   "source": [
    "df.shape"
   ]
  },
  {
   "cell_type": "code",
   "execution_count": 7,
   "metadata": {
    "ExecuteTime": {
     "end_time": "2021-08-29T09:09:54.520240Z",
     "start_time": "2021-08-29T09:09:54.451642Z"
    }
   },
   "outputs": [
    {
     "data": {
      "text/plain": [
       "Date         603\n",
       "Order_id    1139\n",
       "Product       37\n",
       "dtype: int64"
      ]
     },
     "execution_count": 7,
     "metadata": {},
     "output_type": "execute_result"
    }
   ],
   "source": [
    "df.nunique()"
   ]
  },
  {
   "cell_type": "code",
   "execution_count": 8,
   "metadata": {
    "ExecuteTime": {
     "end_time": "2021-08-29T09:09:55.489608Z",
     "start_time": "2021-08-29T09:09:55.436640Z"
    }
   },
   "outputs": [
    {
     "name": "stdout",
     "output_type": "stream",
     "text": [
      "<class 'pandas.core.frame.DataFrame'>\n",
      "RangeIndex: 20641 entries, 0 to 20640\n",
      "Data columns (total 3 columns):\n",
      " #   Column    Non-Null Count  Dtype \n",
      "---  ------    --------------  ----- \n",
      " 0   Date      20641 non-null  object\n",
      " 1   Order_id  20641 non-null  int64 \n",
      " 2   Product   20641 non-null  object\n",
      "dtypes: int64(1), object(2)\n",
      "memory usage: 483.9+ KB\n"
     ]
    }
   ],
   "source": [
    "df.info()"
   ]
  },
  {
   "cell_type": "code",
   "execution_count": 9,
   "metadata": {
    "ExecuteTime": {
     "end_time": "2021-08-29T09:09:56.442164Z",
     "start_time": "2021-08-29T09:09:56.389636Z"
    }
   },
   "outputs": [
    {
     "data": {
      "text/html": [
       "<div>\n",
       "<style scoped>\n",
       "    .dataframe tbody tr th:only-of-type {\n",
       "        vertical-align: middle;\n",
       "    }\n",
       "\n",
       "    .dataframe tbody tr th {\n",
       "        vertical-align: top;\n",
       "    }\n",
       "\n",
       "    .dataframe thead th {\n",
       "        text-align: right;\n",
       "    }\n",
       "</style>\n",
       "<table border=\"1\" class=\"dataframe\">\n",
       "  <thead>\n",
       "    <tr style=\"text-align: right;\">\n",
       "      <th></th>\n",
       "      <th>count</th>\n",
       "      <th>mean</th>\n",
       "      <th>std</th>\n",
       "      <th>min</th>\n",
       "      <th>25%</th>\n",
       "      <th>50%</th>\n",
       "      <th>75%</th>\n",
       "      <th>max</th>\n",
       "    </tr>\n",
       "  </thead>\n",
       "  <tbody>\n",
       "    <tr>\n",
       "      <th>Order_id</th>\n",
       "      <td>20641.0</td>\n",
       "      <td>575.986289</td>\n",
       "      <td>328.557078</td>\n",
       "      <td>1.0</td>\n",
       "      <td>292.0</td>\n",
       "      <td>581.0</td>\n",
       "      <td>862.0</td>\n",
       "      <td>1139.0</td>\n",
       "    </tr>\n",
       "  </tbody>\n",
       "</table>\n",
       "</div>"
      ],
      "text/plain": [
       "            count        mean         std  min    25%    50%    75%     max\n",
       "Order_id  20641.0  575.986289  328.557078  1.0  292.0  581.0  862.0  1139.0"
      ]
     },
     "execution_count": 9,
     "metadata": {},
     "output_type": "execute_result"
    }
   ],
   "source": [
    "df.describe().T"
   ]
  },
  {
   "cell_type": "code",
   "execution_count": 10,
   "metadata": {
    "ExecuteTime": {
     "end_time": "2021-08-29T09:09:58.428800Z",
     "start_time": "2021-08-29T09:09:58.399817Z"
    }
   },
   "outputs": [
    {
     "data": {
      "text/plain": [
       "4730"
      ]
     },
     "execution_count": 10,
     "metadata": {},
     "output_type": "execute_result"
    }
   ],
   "source": [
    "df.duplicated().sum()"
   ]
  },
  {
   "cell_type": "code",
   "execution_count": 11,
   "metadata": {
    "ExecuteTime": {
     "end_time": "2021-08-29T09:09:59.678290Z",
     "start_time": "2021-08-29T09:09:59.653306Z"
    }
   },
   "outputs": [
    {
     "data": {
      "text/plain": [
       "Date        0\n",
       "Order_id    0\n",
       "Product     0\n",
       "dtype: int64"
      ]
     },
     "execution_count": 11,
     "metadata": {},
     "output_type": "execute_result"
    }
   ],
   "source": [
    "df.isna().sum()"
   ]
  },
  {
   "cell_type": "code",
   "execution_count": 12,
   "metadata": {
    "ExecuteTime": {
     "end_time": "2021-08-29T09:10:00.655125Z",
     "start_time": "2021-08-29T09:10:00.617145Z"
    }
   },
   "outputs": [],
   "source": [
    "df['Product'] = df['Product'].str.lower()"
   ]
  },
  {
   "cell_type": "code",
   "execution_count": 13,
   "metadata": {
    "ExecuteTime": {
     "end_time": "2021-08-29T09:10:03.242601Z",
     "start_time": "2021-08-29T09:10:03.203630Z"
    }
   },
   "outputs": [
    {
     "data": {
      "text/html": [
       "<div>\n",
       "<style scoped>\n",
       "    .dataframe tbody tr th:only-of-type {\n",
       "        vertical-align: middle;\n",
       "    }\n",
       "\n",
       "    .dataframe tbody tr th {\n",
       "        vertical-align: top;\n",
       "    }\n",
       "\n",
       "    .dataframe thead th {\n",
       "        text-align: right;\n",
       "    }\n",
       "</style>\n",
       "<table border=\"1\" class=\"dataframe\">\n",
       "  <thead>\n",
       "    <tr style=\"text-align: right;\">\n",
       "      <th></th>\n",
       "      <th>Date</th>\n",
       "      <th>Order_id</th>\n",
       "      <th>Product</th>\n",
       "    </tr>\n",
       "  </thead>\n",
       "  <tbody>\n",
       "    <tr>\n",
       "      <th>0</th>\n",
       "      <td>2018-01-01</td>\n",
       "      <td>1</td>\n",
       "      <td>yogurt</td>\n",
       "    </tr>\n",
       "    <tr>\n",
       "      <th>1</th>\n",
       "      <td>2018-01-01</td>\n",
       "      <td>1</td>\n",
       "      <td>pork</td>\n",
       "    </tr>\n",
       "    <tr>\n",
       "      <th>2</th>\n",
       "      <td>2018-01-01</td>\n",
       "      <td>1</td>\n",
       "      <td>sandwich bags</td>\n",
       "    </tr>\n",
       "    <tr>\n",
       "      <th>3</th>\n",
       "      <td>2018-01-01</td>\n",
       "      <td>1</td>\n",
       "      <td>lunch meat</td>\n",
       "    </tr>\n",
       "    <tr>\n",
       "      <th>4</th>\n",
       "      <td>2018-01-01</td>\n",
       "      <td>1</td>\n",
       "      <td>all- purpose</td>\n",
       "    </tr>\n",
       "    <tr>\n",
       "      <th>...</th>\n",
       "      <td>...</td>\n",
       "      <td>...</td>\n",
       "      <td>...</td>\n",
       "    </tr>\n",
       "    <tr>\n",
       "      <th>20636</th>\n",
       "      <td>2020-02-25</td>\n",
       "      <td>1138</td>\n",
       "      <td>soda</td>\n",
       "    </tr>\n",
       "    <tr>\n",
       "      <th>20637</th>\n",
       "      <td>2020-02-25</td>\n",
       "      <td>1138</td>\n",
       "      <td>paper towels</td>\n",
       "    </tr>\n",
       "    <tr>\n",
       "      <th>20638</th>\n",
       "      <td>2020-02-26</td>\n",
       "      <td>1139</td>\n",
       "      <td>soda</td>\n",
       "    </tr>\n",
       "    <tr>\n",
       "      <th>20639</th>\n",
       "      <td>2020-02-26</td>\n",
       "      <td>1139</td>\n",
       "      <td>laundry detergent</td>\n",
       "    </tr>\n",
       "    <tr>\n",
       "      <th>20640</th>\n",
       "      <td>2020-02-26</td>\n",
       "      <td>1139</td>\n",
       "      <td>shampoo</td>\n",
       "    </tr>\n",
       "  </tbody>\n",
       "</table>\n",
       "<p>20641 rows × 3 columns</p>\n",
       "</div>"
      ],
      "text/plain": [
       "             Date  Order_id            Product\n",
       "0      2018-01-01         1             yogurt\n",
       "1      2018-01-01         1               pork\n",
       "2      2018-01-01         1      sandwich bags\n",
       "3      2018-01-01         1         lunch meat\n",
       "4      2018-01-01         1       all- purpose\n",
       "...           ...       ...                ...\n",
       "20636  2020-02-25      1138               soda\n",
       "20637  2020-02-25      1138       paper towels\n",
       "20638  2020-02-26      1139               soda\n",
       "20639  2020-02-26      1139  laundry detergent\n",
       "20640  2020-02-26      1139            shampoo\n",
       "\n",
       "[20641 rows x 3 columns]"
      ]
     },
     "execution_count": 13,
     "metadata": {},
     "output_type": "execute_result"
    }
   ],
   "source": [
    "df"
   ]
  },
  {
   "cell_type": "code",
   "execution_count": 14,
   "metadata": {
    "ExecuteTime": {
     "end_time": "2021-08-29T09:10:05.340627Z",
     "start_time": "2021-08-29T09:10:05.311643Z"
    }
   },
   "outputs": [],
   "source": [
    "df = df.drop(df[df.Product == 'none'].index)"
   ]
  },
  {
   "cell_type": "code",
   "execution_count": 15,
   "metadata": {
    "ExecuteTime": {
     "end_time": "2021-08-29T09:10:06.278248Z",
     "start_time": "2021-08-29T09:10:06.245268Z"
    }
   },
   "outputs": [
    {
     "data": {
      "text/html": [
       "<div>\n",
       "<style scoped>\n",
       "    .dataframe tbody tr th:only-of-type {\n",
       "        vertical-align: middle;\n",
       "    }\n",
       "\n",
       "    .dataframe tbody tr th {\n",
       "        vertical-align: top;\n",
       "    }\n",
       "\n",
       "    .dataframe thead th {\n",
       "        text-align: right;\n",
       "    }\n",
       "</style>\n",
       "<table border=\"1\" class=\"dataframe\">\n",
       "  <thead>\n",
       "    <tr style=\"text-align: right;\">\n",
       "      <th></th>\n",
       "      <th>Date</th>\n",
       "      <th>Order_id</th>\n",
       "      <th>Product</th>\n",
       "    </tr>\n",
       "  </thead>\n",
       "  <tbody>\n",
       "    <tr>\n",
       "      <th>0</th>\n",
       "      <td>2018-01-01</td>\n",
       "      <td>1</td>\n",
       "      <td>yogurt</td>\n",
       "    </tr>\n",
       "    <tr>\n",
       "      <th>1</th>\n",
       "      <td>2018-01-01</td>\n",
       "      <td>1</td>\n",
       "      <td>pork</td>\n",
       "    </tr>\n",
       "    <tr>\n",
       "      <th>2</th>\n",
       "      <td>2018-01-01</td>\n",
       "      <td>1</td>\n",
       "      <td>sandwich bags</td>\n",
       "    </tr>\n",
       "    <tr>\n",
       "      <th>3</th>\n",
       "      <td>2018-01-01</td>\n",
       "      <td>1</td>\n",
       "      <td>lunch meat</td>\n",
       "    </tr>\n",
       "    <tr>\n",
       "      <th>4</th>\n",
       "      <td>2018-01-01</td>\n",
       "      <td>1</td>\n",
       "      <td>all- purpose</td>\n",
       "    </tr>\n",
       "    <tr>\n",
       "      <th>...</th>\n",
       "      <td>...</td>\n",
       "      <td>...</td>\n",
       "      <td>...</td>\n",
       "    </tr>\n",
       "    <tr>\n",
       "      <th>20636</th>\n",
       "      <td>2020-02-25</td>\n",
       "      <td>1138</td>\n",
       "      <td>soda</td>\n",
       "    </tr>\n",
       "    <tr>\n",
       "      <th>20637</th>\n",
       "      <td>2020-02-25</td>\n",
       "      <td>1138</td>\n",
       "      <td>paper towels</td>\n",
       "    </tr>\n",
       "    <tr>\n",
       "      <th>20638</th>\n",
       "      <td>2020-02-26</td>\n",
       "      <td>1139</td>\n",
       "      <td>soda</td>\n",
       "    </tr>\n",
       "    <tr>\n",
       "      <th>20639</th>\n",
       "      <td>2020-02-26</td>\n",
       "      <td>1139</td>\n",
       "      <td>laundry detergent</td>\n",
       "    </tr>\n",
       "    <tr>\n",
       "      <th>20640</th>\n",
       "      <td>2020-02-26</td>\n",
       "      <td>1139</td>\n",
       "      <td>shampoo</td>\n",
       "    </tr>\n",
       "  </tbody>\n",
       "</table>\n",
       "<p>20641 rows × 3 columns</p>\n",
       "</div>"
      ],
      "text/plain": [
       "             Date  Order_id            Product\n",
       "0      2018-01-01         1             yogurt\n",
       "1      2018-01-01         1               pork\n",
       "2      2018-01-01         1      sandwich bags\n",
       "3      2018-01-01         1         lunch meat\n",
       "4      2018-01-01         1       all- purpose\n",
       "...           ...       ...                ...\n",
       "20636  2020-02-25      1138               soda\n",
       "20637  2020-02-25      1138       paper towels\n",
       "20638  2020-02-26      1139               soda\n",
       "20639  2020-02-26      1139  laundry detergent\n",
       "20640  2020-02-26      1139            shampoo\n",
       "\n",
       "[20641 rows x 3 columns]"
      ]
     },
     "execution_count": 15,
     "metadata": {},
     "output_type": "execute_result"
    }
   ],
   "source": [
    "df"
   ]
  },
  {
   "cell_type": "code",
   "execution_count": 16,
   "metadata": {
    "ExecuteTime": {
     "end_time": "2021-08-29T09:10:08.439072Z",
     "start_time": "2021-08-29T09:10:07.782356Z"
    }
   },
   "outputs": [
    {
     "data": {
      "image/png": "[encoded data removed]",
      "text/plain": [
       "<Figure size 864x504 with 1 Axes>"
      ]
     },
     "metadata": {
      "needs_background": "light"
     },
     "output_type": "display_data"
    }
   ],
   "source": [
    "df['Product'].value_counts().sort_values(ascending=False).head(20).plot(kind='bar',figsize=(12,7));"
   ]
  },
  {
   "cell_type": "code",
   "execution_count": 17,
   "metadata": {
    "ExecuteTime": {
     "end_time": "2021-08-29T09:10:13.378585Z",
     "start_time": "2021-08-29T09:10:13.330614Z"
    }
   },
   "outputs": [],
   "source": [
    "basket=df.groupby(['Order_id', 'Product'])['Product'].count().unstack().reset_index().fillna(0).set_index('Order_id')"
   ]
  },
  {
   "cell_type": "code",
   "execution_count": 18,
   "metadata": {
    "ExecuteTime": {
     "end_time": "2021-08-29T09:10:14.675582Z",
     "start_time": "2021-08-29T09:10:14.593612Z"
    }
   },
   "outputs": [
    {
     "data": {
      "text/html": [
       "<div>\n",
       "<style scoped>\n",
       "    .dataframe tbody tr th:only-of-type {\n",
       "        vertical-align: middle;\n",
       "    }\n",
       "\n",
       "    .dataframe tbody tr th {\n",
       "        vertical-align: top;\n",
       "    }\n",
       "\n",
       "    .dataframe thead th {\n",
       "        text-align: right;\n",
       "    }\n",
       "</style>\n",
       "<table border=\"1\" class=\"dataframe\">\n",
       "  <thead>\n",
       "    <tr style=\"text-align: right;\">\n",
       "      <th>Product</th>\n",
       "      <th>all- purpose</th>\n",
       "      <th>aluminum foil</th>\n",
       "      <th>bagels</th>\n",
       "      <th>beef</th>\n",
       "      <th>butter</th>\n",
       "      <th>cereals</th>\n",
       "      <th>cheeses</th>\n",
       "      <th>coffee/tea</th>\n",
       "      <th>dinner rolls</th>\n",
       "      <th>dishwashing liquid/detergent</th>\n",
       "      <th>...</th>\n",
       "      <th>sandwich loaves</th>\n",
       "      <th>shampoo</th>\n",
       "      <th>soap</th>\n",
       "      <th>soda</th>\n",
       "      <th>spaghetti sauce</th>\n",
       "      <th>sugar</th>\n",
       "      <th>toilet paper</th>\n",
       "      <th>tortillas</th>\n",
       "      <th>waffles</th>\n",
       "      <th>yogurt</th>\n",
       "    </tr>\n",
       "    <tr>\n",
       "      <th>Order_id</th>\n",
       "      <th></th>\n",
       "      <th></th>\n",
       "      <th></th>\n",
       "      <th></th>\n",
       "      <th></th>\n",
       "      <th></th>\n",
       "      <th></th>\n",
       "      <th></th>\n",
       "      <th></th>\n",
       "      <th></th>\n",
       "      <th></th>\n",
       "      <th></th>\n",
       "      <th></th>\n",
       "      <th></th>\n",
       "      <th></th>\n",
       "      <th></th>\n",
       "      <th></th>\n",
       "      <th></th>\n",
       "      <th></th>\n",
       "      <th></th>\n",
       "      <th></th>\n",
       "    </tr>\n",
       "  </thead>\n",
       "  <tbody>\n",
       "    <tr>\n",
       "      <th>1</th>\n",
       "      <td>3.0</td>\n",
       "      <td>1.0</td>\n",
       "      <td>0.0</td>\n",
       "      <td>1.0</td>\n",
       "      <td>1.0</td>\n",
       "      <td>0.0</td>\n",
       "      <td>0.0</td>\n",
       "      <td>0.0</td>\n",
       "      <td>2.0</td>\n",
       "      <td>0.0</td>\n",
       "      <td>...</td>\n",
       "      <td>0.0</td>\n",
       "      <td>1.0</td>\n",
       "      <td>1.0</td>\n",
       "      <td>1.0</td>\n",
       "      <td>0.0</td>\n",
       "      <td>0.0</td>\n",
       "      <td>0.0</td>\n",
       "      <td>0.0</td>\n",
       "      <td>0.0</td>\n",
       "      <td>1.0</td>\n",
       "    </tr>\n",
       "    <tr>\n",
       "      <th>2</th>\n",
       "      <td>0.0</td>\n",
       "      <td>1.0</td>\n",
       "      <td>0.0</td>\n",
       "      <td>0.0</td>\n",
       "      <td>0.0</td>\n",
       "      <td>1.0</td>\n",
       "      <td>1.0</td>\n",
       "      <td>0.0</td>\n",
       "      <td>0.0</td>\n",
       "      <td>1.0</td>\n",
       "      <td>...</td>\n",
       "      <td>0.0</td>\n",
       "      <td>2.0</td>\n",
       "      <td>0.0</td>\n",
       "      <td>0.0</td>\n",
       "      <td>0.0</td>\n",
       "      <td>0.0</td>\n",
       "      <td>1.0</td>\n",
       "      <td>1.0</td>\n",
       "      <td>2.0</td>\n",
       "      <td>1.0</td>\n",
       "    </tr>\n",
       "    <tr>\n",
       "      <th>3</th>\n",
       "      <td>0.0</td>\n",
       "      <td>0.0</td>\n",
       "      <td>1.0</td>\n",
       "      <td>0.0</td>\n",
       "      <td>0.0</td>\n",
       "      <td>1.0</td>\n",
       "      <td>1.0</td>\n",
       "      <td>0.0</td>\n",
       "      <td>1.0</td>\n",
       "      <td>0.0</td>\n",
       "      <td>...</td>\n",
       "      <td>1.0</td>\n",
       "      <td>1.0</td>\n",
       "      <td>2.0</td>\n",
       "      <td>1.0</td>\n",
       "      <td>3.0</td>\n",
       "      <td>0.0</td>\n",
       "      <td>2.0</td>\n",
       "      <td>0.0</td>\n",
       "      <td>0.0</td>\n",
       "      <td>0.0</td>\n",
       "    </tr>\n",
       "    <tr>\n",
       "      <th>4</th>\n",
       "      <td>1.0</td>\n",
       "      <td>0.0</td>\n",
       "      <td>0.0</td>\n",
       "      <td>0.0</td>\n",
       "      <td>0.0</td>\n",
       "      <td>1.0</td>\n",
       "      <td>0.0</td>\n",
       "      <td>0.0</td>\n",
       "      <td>0.0</td>\n",
       "      <td>0.0</td>\n",
       "      <td>...</td>\n",
       "      <td>0.0</td>\n",
       "      <td>0.0</td>\n",
       "      <td>0.0</td>\n",
       "      <td>1.0</td>\n",
       "      <td>0.0</td>\n",
       "      <td>0.0</td>\n",
       "      <td>1.0</td>\n",
       "      <td>0.0</td>\n",
       "      <td>0.0</td>\n",
       "      <td>0.0</td>\n",
       "    </tr>\n",
       "    <tr>\n",
       "      <th>5</th>\n",
       "      <td>1.0</td>\n",
       "      <td>0.0</td>\n",
       "      <td>0.0</td>\n",
       "      <td>0.0</td>\n",
       "      <td>0.0</td>\n",
       "      <td>0.0</td>\n",
       "      <td>0.0</td>\n",
       "      <td>0.0</td>\n",
       "      <td>1.0</td>\n",
       "      <td>0.0</td>\n",
       "      <td>...</td>\n",
       "      <td>1.0</td>\n",
       "      <td>0.0</td>\n",
       "      <td>0.0</td>\n",
       "      <td>1.0</td>\n",
       "      <td>1.0</td>\n",
       "      <td>0.0</td>\n",
       "      <td>1.0</td>\n",
       "      <td>1.0</td>\n",
       "      <td>1.0</td>\n",
       "      <td>1.0</td>\n",
       "    </tr>\n",
       "  </tbody>\n",
       "</table>\n",
       "<p>5 rows × 37 columns</p>\n",
       "</div>"
      ],
      "text/plain": [
       "Product   all- purpose  aluminum foil  bagels  beef  butter  cereals  cheeses  \\\n",
       "Order_id                                                                        \n",
       "1                  3.0            1.0     0.0   1.0     1.0      0.0      0.0   \n",
       "2                  0.0            1.0     0.0   0.0     0.0      1.0      1.0   \n",
       "3                  0.0            0.0     1.0   0.0     0.0      1.0      1.0   \n",
       "4                  1.0            0.0     0.0   0.0     0.0      1.0      0.0   \n",
       "5                  1.0            0.0     0.0   0.0     0.0      0.0      0.0   \n",
       "\n",
       "Product   coffee/tea  dinner rolls  dishwashing liquid/detergent  ...  \\\n",
       "Order_id                                                          ...   \n",
       "1                0.0           2.0                           0.0  ...   \n",
       "2                0.0           0.0                           1.0  ...   \n",
       "3                0.0           1.0                           0.0  ...   \n",
       "4                0.0           0.0                           0.0  ...   \n",
       "5                0.0           1.0                           0.0  ...   \n",
       "\n",
       "Product   sandwich loaves  shampoo  soap  soda  spaghetti sauce  sugar  \\\n",
       "Order_id                                                                 \n",
       "1                     0.0      1.0   1.0   1.0              0.0    0.0   \n",
       "2                     0.0      2.0   0.0   0.0              0.0    0.0   \n",
       "3                     1.0      1.0   2.0   1.0              3.0    0.0   \n",
       "4                     0.0      0.0   0.0   1.0              0.0    0.0   \n",
       "5                     1.0      0.0   0.0   1.0              1.0    0.0   \n",
       "\n",
       "Product   toilet paper  tortillas  waffles  yogurt  \n",
       "Order_id                                            \n",
       "1                  0.0        0.0      0.0     1.0  \n",
       "2                  1.0        1.0      2.0     1.0  \n",
       "3                  2.0        0.0      0.0     0.0  \n",
       "4                  1.0        0.0      0.0     0.0  \n",
       "5                  1.0        1.0      1.0     1.0  \n",
       "\n",
       "[5 rows x 37 columns]"
      ]
     },
     "execution_count": 18,
     "metadata": {},
     "output_type": "execute_result"
    }
   ],
   "source": [
    "basket.head()"
   ]
  },
  {
   "cell_type": "code",
   "execution_count": 19,
   "metadata": {
    "ExecuteTime": {
     "end_time": "2021-08-29T09:10:17.801615Z",
     "start_time": "2021-08-29T09:10:17.783604Z"
    }
   },
   "outputs": [],
   "source": [
    "def encode_zero_one(x):\n",
    "    if x <= 0:\n",
    "        return 0\n",
    "    if x >= 1:\n",
    "        return 1"
   ]
  },
  {
   "cell_type": "code",
   "execution_count": 20,
   "metadata": {
    "ExecuteTime": {
     "end_time": "2021-08-29T09:10:20.268709Z",
     "start_time": "2021-08-29T09:10:20.179756Z"
    }
   },
   "outputs": [],
   "source": [
    "basket=basket.applymap(encode_zero_one)"
   ]
  },
  {
   "cell_type": "markdown",
   "metadata": {},
   "source": [
    "Find the support for Products/Items using Apriori"
   ]
  },
  {
   "cell_type": "code",
   "execution_count": 21,
   "metadata": {
    "ExecuteTime": {
     "end_time": "2021-08-29T09:10:57.263071Z",
     "start_time": "2021-08-29T09:10:56.414543Z"
    }
   },
   "outputs": [],
   "source": [
    "itemsets = apriori(basket, min_support = 0.05, use_colnames = True, low_memory=True)"
   ]
  },
  {
   "cell_type": "code",
   "execution_count": 22,
   "metadata": {
    "ExecuteTime": {
     "end_time": "2021-08-29T09:11:00.576521Z",
     "start_time": "2021-08-29T09:11:00.544539Z"
    }
   },
   "outputs": [
    {
     "data": {
      "text/html": [
       "<div>\n",
       "<style scoped>\n",
       "    .dataframe tbody tr th:only-of-type {\n",
       "        vertical-align: middle;\n",
       "    }\n",
       "\n",
       "    .dataframe tbody tr th {\n",
       "        vertical-align: top;\n",
       "    }\n",
       "\n",
       "    .dataframe thead th {\n",
       "        text-align: right;\n",
       "    }\n",
       "</style>\n",
       "<table border=\"1\" class=\"dataframe\">\n",
       "  <thead>\n",
       "    <tr style=\"text-align: right;\">\n",
       "      <th></th>\n",
       "      <th>support</th>\n",
       "      <th>itemsets</th>\n",
       "    </tr>\n",
       "  </thead>\n",
       "  <tbody>\n",
       "    <tr>\n",
       "      <th>0</th>\n",
       "      <td>0.374890</td>\n",
       "      <td>(all- purpose)</td>\n",
       "    </tr>\n",
       "    <tr>\n",
       "      <th>1</th>\n",
       "      <td>0.384548</td>\n",
       "      <td>(aluminum foil)</td>\n",
       "    </tr>\n",
       "    <tr>\n",
       "      <th>2</th>\n",
       "      <td>0.385426</td>\n",
       "      <td>(bagels)</td>\n",
       "    </tr>\n",
       "    <tr>\n",
       "      <th>3</th>\n",
       "      <td>0.374890</td>\n",
       "      <td>(beef)</td>\n",
       "    </tr>\n",
       "    <tr>\n",
       "      <th>4</th>\n",
       "      <td>0.367867</td>\n",
       "      <td>(butter)</td>\n",
       "    </tr>\n",
       "    <tr>\n",
       "      <th>...</th>\n",
       "      <td>...</td>\n",
       "      <td>...</td>\n",
       "    </tr>\n",
       "    <tr>\n",
       "      <th>8449</th>\n",
       "      <td>0.051800</td>\n",
       "      <td>(poultry, spaghetti sauce, ice cream, dinner r...</td>\n",
       "    </tr>\n",
       "    <tr>\n",
       "      <th>8450</th>\n",
       "      <td>0.051800</td>\n",
       "      <td>(poultry, spaghetti sauce, juice, dinner rolls)</td>\n",
       "    </tr>\n",
       "    <tr>\n",
       "      <th>8451</th>\n",
       "      <td>0.053556</td>\n",
       "      <td>(poultry, spaghetti sauce, laundry detergent, ...</td>\n",
       "    </tr>\n",
       "    <tr>\n",
       "      <th>8452</th>\n",
       "      <td>0.050044</td>\n",
       "      <td>(mixes, dishwashing liquid/detergent, laundry ...</td>\n",
       "    </tr>\n",
       "    <tr>\n",
       "      <th>8453</th>\n",
       "      <td>0.055312</td>\n",
       "      <td>(pasta, paper towels, eggs, ice cream)</td>\n",
       "    </tr>\n",
       "  </tbody>\n",
       "</table>\n",
       "<p>8454 rows × 2 columns</p>\n",
       "</div>"
      ],
      "text/plain": [
       "       support                                           itemsets\n",
       "0     0.374890                                     (all- purpose)\n",
       "1     0.384548                                    (aluminum foil)\n",
       "2     0.385426                                           (bagels)\n",
       "3     0.374890                                             (beef)\n",
       "4     0.367867                                           (butter)\n",
       "...        ...                                                ...\n",
       "8449  0.051800  (poultry, spaghetti sauce, ice cream, dinner r...\n",
       "8450  0.051800    (poultry, spaghetti sauce, juice, dinner rolls)\n",
       "8451  0.053556  (poultry, spaghetti sauce, laundry detergent, ...\n",
       "8452  0.050044  (mixes, dishwashing liquid/detergent, laundry ...\n",
       "8453  0.055312             (pasta, paper towels, eggs, ice cream)\n",
       "\n",
       "[8454 rows x 2 columns]"
      ]
     },
     "execution_count": 22,
     "metadata": {},
     "output_type": "execute_result"
    }
   ],
   "source": [
    "itemsets"
   ]
  },
  {
   "cell_type": "markdown",
   "metadata": {},
   "source": [
    "Visualizing the Support of Product/Itemset"
   ]
  },
  {
   "cell_type": "code",
   "execution_count": 23,
   "metadata": {
    "ExecuteTime": {
     "end_time": "2021-08-29T09:11:11.649967Z",
     "start_time": "2021-08-29T09:11:10.914390Z"
    }
   },
   "outputs": [
    {
     "data": {
      "image/png": "[encoded data removed]",
      "text/plain": [
       "<Figure size 864x504 with 1 Axes>"
      ]
     },
     "metadata": {
      "needs_background": "light"
     },
     "output_type": "display_data"
    }
   ],
   "source": [
    "plt.figure(figsize=(12,7))\n",
    "sns.barplot(itemsets.sort_values('support',ascending=False).iloc[0:20,1],\n",
    "            itemsets.sort_values('support',ascending=False).iloc[0:20,0])\n",
    "plt.xticks(rotation=90)\n",
    "plt.show()"
   ]
  },
  {
   "cell_type": "markdown",
   "metadata": {},
   "source": [
    "Check the rules using association_rules"
   ]
  },
  {
   "cell_type": "code",
   "execution_count": 24,
   "metadata": {
    "ExecuteTime": {
     "end_time": "2021-08-29T09:11:24.401925Z",
     "start_time": "2021-08-29T09:11:23.700503Z"
    },
    "scrolled": true
   },
   "outputs": [],
   "source": [
    "basket = association_rules(itemsets, metric =\"lift\",) \n",
    "basket = basket.sort_values(['lift','confidence'], ascending =[False, False]) "
   ]
  },
  {
   "cell_type": "code",
   "execution_count": 31,
   "metadata": {
    "ExecuteTime": {
     "end_time": "2021-08-29T09:20:31.860556Z",
     "start_time": "2021-08-29T09:20:31.790573Z"
    }
   },
   "outputs": [
    {
     "data": {
      "text/html": [
       "<div>\n",
       "<style scoped>\n",
       "    .dataframe tbody tr th:only-of-type {\n",
       "        vertical-align: middle;\n",
       "    }\n",
       "\n",
       "    .dataframe tbody tr th {\n",
       "        vertical-align: top;\n",
       "    }\n",
       "\n",
       "    .dataframe thead th {\n",
       "        text-align: right;\n",
       "    }\n",
       "</style>\n",
       "<table border=\"1\" class=\"dataframe\">\n",
       "  <thead>\n",
       "    <tr style=\"text-align: right;\">\n",
       "      <th></th>\n",
       "      <th>antecedents</th>\n",
       "      <th>consequents</th>\n",
       "      <th>antecedent support</th>\n",
       "      <th>consequent support</th>\n",
       "      <th>support</th>\n",
       "      <th>confidence</th>\n",
       "      <th>lift</th>\n",
       "      <th>leverage</th>\n",
       "      <th>conviction</th>\n",
       "    </tr>\n",
       "  </thead>\n",
       "  <tbody>\n",
       "    <tr>\n",
       "      <th>47948</th>\n",
       "      <td>(pasta, paper towels)</td>\n",
       "      <td>(eggs, ice cream)</td>\n",
       "      <td>0.164179</td>\n",
       "      <td>0.166813</td>\n",
       "      <td>0.055312</td>\n",
       "      <td>0.336898</td>\n",
       "      <td>2.019617</td>\n",
       "      <td>0.027924</td>\n",
       "      <td>1.256500</td>\n",
       "    </tr>\n",
       "    <tr>\n",
       "      <th>47953</th>\n",
       "      <td>(eggs, ice cream)</td>\n",
       "      <td>(pasta, paper towels)</td>\n",
       "      <td>0.166813</td>\n",
       "      <td>0.164179</td>\n",
       "      <td>0.055312</td>\n",
       "      <td>0.331579</td>\n",
       "      <td>2.019617</td>\n",
       "      <td>0.027924</td>\n",
       "      <td>1.250441</td>\n",
       "    </tr>\n",
       "    <tr>\n",
       "      <th>47950</th>\n",
       "      <td>(pasta, ice cream)</td>\n",
       "      <td>(paper towels, eggs)</td>\n",
       "      <td>0.167691</td>\n",
       "      <td>0.165935</td>\n",
       "      <td>0.055312</td>\n",
       "      <td>0.329843</td>\n",
       "      <td>1.987784</td>\n",
       "      <td>0.027486</td>\n",
       "      <td>1.244581</td>\n",
       "    </tr>\n",
       "    <tr>\n",
       "      <th>47951</th>\n",
       "      <td>(paper towels, eggs)</td>\n",
       "      <td>(pasta, ice cream)</td>\n",
       "      <td>0.165935</td>\n",
       "      <td>0.167691</td>\n",
       "      <td>0.055312</td>\n",
       "      <td>0.333333</td>\n",
       "      <td>1.987784</td>\n",
       "      <td>0.027486</td>\n",
       "      <td>1.248464</td>\n",
       "    </tr>\n",
       "    <tr>\n",
       "      <th>47854</th>\n",
       "      <td>(paper towels, dinner rolls)</td>\n",
       "      <td>(pasta, eggs)</td>\n",
       "      <td>0.155399</td>\n",
       "      <td>0.169447</td>\n",
       "      <td>0.051800</td>\n",
       "      <td>0.333333</td>\n",
       "      <td>1.967185</td>\n",
       "      <td>0.025468</td>\n",
       "      <td>1.245830</td>\n",
       "    </tr>\n",
       "    <tr>\n",
       "      <th>47851</th>\n",
       "      <td>(pasta, eggs)</td>\n",
       "      <td>(paper towels, dinner rolls)</td>\n",
       "      <td>0.169447</td>\n",
       "      <td>0.155399</td>\n",
       "      <td>0.051800</td>\n",
       "      <td>0.305699</td>\n",
       "      <td>1.967185</td>\n",
       "      <td>0.025468</td>\n",
       "      <td>1.216477</td>\n",
       "    </tr>\n",
       "    <tr>\n",
       "      <th>47906</th>\n",
       "      <td>(spaghetti sauce, poultry)</td>\n",
       "      <td>(juice, dinner rolls)</td>\n",
       "      <td>0.171203</td>\n",
       "      <td>0.157155</td>\n",
       "      <td>0.051800</td>\n",
       "      <td>0.302564</td>\n",
       "      <td>1.925254</td>\n",
       "      <td>0.024894</td>\n",
       "      <td>1.208490</td>\n",
       "    </tr>\n",
       "    <tr>\n",
       "      <th>47911</th>\n",
       "      <td>(juice, dinner rolls)</td>\n",
       "      <td>(spaghetti sauce, poultry)</td>\n",
       "      <td>0.157155</td>\n",
       "      <td>0.171203</td>\n",
       "      <td>0.051800</td>\n",
       "      <td>0.329609</td>\n",
       "      <td>1.925254</td>\n",
       "      <td>0.024894</td>\n",
       "      <td>1.236289</td>\n",
       "    </tr>\n",
       "    <tr>\n",
       "      <th>47798</th>\n",
       "      <td>(cereals, sandwich bags)</td>\n",
       "      <td>(bagels, cheeses)</td>\n",
       "      <td>0.158033</td>\n",
       "      <td>0.167691</td>\n",
       "      <td>0.050922</td>\n",
       "      <td>0.322222</td>\n",
       "      <td>1.921524</td>\n",
       "      <td>0.024421</td>\n",
       "      <td>1.227997</td>\n",
       "    </tr>\n",
       "    <tr>\n",
       "      <th>47795</th>\n",
       "      <td>(bagels, cheeses)</td>\n",
       "      <td>(cereals, sandwich bags)</td>\n",
       "      <td>0.167691</td>\n",
       "      <td>0.158033</td>\n",
       "      <td>0.050922</td>\n",
       "      <td>0.303665</td>\n",
       "      <td>1.921524</td>\n",
       "      <td>0.024421</td>\n",
       "      <td>1.209140</td>\n",
       "    </tr>\n",
       "  </tbody>\n",
       "</table>\n",
       "</div>"
      ],
      "text/plain": [
       "                        antecedents                   consequents  \\\n",
       "47948         (pasta, paper towels)             (eggs, ice cream)   \n",
       "47953             (eggs, ice cream)         (pasta, paper towels)   \n",
       "47950            (pasta, ice cream)          (paper towels, eggs)   \n",
       "47951          (paper towels, eggs)            (pasta, ice cream)   \n",
       "47854  (paper towels, dinner rolls)                 (pasta, eggs)   \n",
       "47851                 (pasta, eggs)  (paper towels, dinner rolls)   \n",
       "47906    (spaghetti sauce, poultry)         (juice, dinner rolls)   \n",
       "47911         (juice, dinner rolls)    (spaghetti sauce, poultry)   \n",
       "47798      (cereals, sandwich bags)             (bagels, cheeses)   \n",
       "47795             (bagels, cheeses)      (cereals, sandwich bags)   \n",
       "\n",
       "       antecedent support  consequent support   support  confidence      lift  \\\n",
       "47948            0.164179            0.166813  0.055312    0.336898  2.019617   \n",
       "47953            0.166813            0.164179  0.055312    0.331579  2.019617   \n",
       "47950            0.167691            0.165935  0.055312    0.329843  1.987784   \n",
       "47951            0.165935            0.167691  0.055312    0.333333  1.987784   \n",
       "47854            0.155399            0.169447  0.051800    0.333333  1.967185   \n",
       "47851            0.169447            0.155399  0.051800    0.305699  1.967185   \n",
       "47906            0.171203            0.157155  0.051800    0.302564  1.925254   \n",
       "47911            0.157155            0.171203  0.051800    0.329609  1.925254   \n",
       "47798            0.158033            0.167691  0.050922    0.322222  1.921524   \n",
       "47795            0.167691            0.158033  0.050922    0.303665  1.921524   \n",
       "\n",
       "       leverage  conviction  \n",
       "47948  0.027924    1.256500  \n",
       "47953  0.027924    1.250441  \n",
       "47950  0.027486    1.244581  \n",
       "47951  0.027486    1.248464  \n",
       "47854  0.025468    1.245830  \n",
       "47851  0.025468    1.216477  \n",
       "47906  0.024894    1.208490  \n",
       "47911  0.024894    1.236289  \n",
       "47798  0.024421    1.227997  \n",
       "47795  0.024421    1.209140  "
      ]
     },
     "execution_count": 31,
     "metadata": {},
     "output_type": "execute_result"
    }
   ],
   "source": [
    "basket.head(10)"
   ]
  },
  {
   "cell_type": "code",
   "execution_count": 32,
   "metadata": {
    "ExecuteTime": {
     "end_time": "2021-08-29T09:20:36.114200Z",
     "start_time": "2021-08-29T09:20:36.057236Z"
    }
   },
   "outputs": [
    {
     "data": {
      "text/html": [
       "<div>\n",
       "<style scoped>\n",
       "    .dataframe tbody tr th:only-of-type {\n",
       "        vertical-align: middle;\n",
       "    }\n",
       "\n",
       "    .dataframe tbody tr th {\n",
       "        vertical-align: top;\n",
       "    }\n",
       "\n",
       "    .dataframe thead th {\n",
       "        text-align: right;\n",
       "    }\n",
       "</style>\n",
       "<table border=\"1\" class=\"dataframe\">\n",
       "  <thead>\n",
       "    <tr style=\"text-align: right;\">\n",
       "      <th></th>\n",
       "      <th>antecedents</th>\n",
       "      <th>consequents</th>\n",
       "      <th>antecedent support</th>\n",
       "      <th>consequent support</th>\n",
       "      <th>support</th>\n",
       "      <th>confidence</th>\n",
       "      <th>lift</th>\n",
       "      <th>leverage</th>\n",
       "      <th>conviction</th>\n",
       "    </tr>\n",
       "  </thead>\n",
       "  <tbody>\n",
       "    <tr>\n",
       "      <th>12093</th>\n",
       "      <td>(beef)</td>\n",
       "      <td>(butter, laundry detergent)</td>\n",
       "      <td>0.374890</td>\n",
       "      <td>0.158033</td>\n",
       "      <td>0.051800</td>\n",
       "      <td>0.138173</td>\n",
       "      <td>0.874330</td>\n",
       "      <td>-0.007445</td>\n",
       "      <td>0.976956</td>\n",
       "    </tr>\n",
       "    <tr>\n",
       "      <th>12092</th>\n",
       "      <td>(butter, laundry detergent)</td>\n",
       "      <td>(beef)</td>\n",
       "      <td>0.158033</td>\n",
       "      <td>0.374890</td>\n",
       "      <td>0.051800</td>\n",
       "      <td>0.327778</td>\n",
       "      <td>0.874330</td>\n",
       "      <td>-0.007445</td>\n",
       "      <td>0.929915</td>\n",
       "    </tr>\n",
       "    <tr>\n",
       "      <th>24441</th>\n",
       "      <td>(coffee/tea)</td>\n",
       "      <td>(laundry detergent, ice cream)</td>\n",
       "      <td>0.379280</td>\n",
       "      <td>0.158911</td>\n",
       "      <td>0.052678</td>\n",
       "      <td>0.138889</td>\n",
       "      <td>0.874002</td>\n",
       "      <td>-0.007594</td>\n",
       "      <td>0.976748</td>\n",
       "    </tr>\n",
       "    <tr>\n",
       "      <th>24440</th>\n",
       "      <td>(laundry detergent, ice cream)</td>\n",
       "      <td>(coffee/tea)</td>\n",
       "      <td>0.158911</td>\n",
       "      <td>0.379280</td>\n",
       "      <td>0.052678</td>\n",
       "      <td>0.331492</td>\n",
       "      <td>0.874002</td>\n",
       "      <td>-0.007594</td>\n",
       "      <td>0.928515</td>\n",
       "    </tr>\n",
       "    <tr>\n",
       "      <th>46754</th>\n",
       "      <td>(tortillas, poultry)</td>\n",
       "      <td>(waffles)</td>\n",
       "      <td>0.171203</td>\n",
       "      <td>0.394205</td>\n",
       "      <td>0.058824</td>\n",
       "      <td>0.343590</td>\n",
       "      <td>0.871601</td>\n",
       "      <td>-0.008666</td>\n",
       "      <td>0.922890</td>\n",
       "    </tr>\n",
       "    <tr>\n",
       "      <th>46755</th>\n",
       "      <td>(waffles)</td>\n",
       "      <td>(tortillas, poultry)</td>\n",
       "      <td>0.394205</td>\n",
       "      <td>0.171203</td>\n",
       "      <td>0.058824</td>\n",
       "      <td>0.149220</td>\n",
       "      <td>0.871601</td>\n",
       "      <td>-0.008666</td>\n",
       "      <td>0.974162</td>\n",
       "    </tr>\n",
       "    <tr>\n",
       "      <th>34218</th>\n",
       "      <td>(fruits, ice cream)</td>\n",
       "      <td>(pork)</td>\n",
       "      <td>0.165057</td>\n",
       "      <td>0.355575</td>\n",
       "      <td>0.050922</td>\n",
       "      <td>0.308511</td>\n",
       "      <td>0.867639</td>\n",
       "      <td>-0.007768</td>\n",
       "      <td>0.931938</td>\n",
       "    </tr>\n",
       "    <tr>\n",
       "      <th>34223</th>\n",
       "      <td>(pork)</td>\n",
       "      <td>(fruits, ice cream)</td>\n",
       "      <td>0.355575</td>\n",
       "      <td>0.165057</td>\n",
       "      <td>0.050922</td>\n",
       "      <td>0.143210</td>\n",
       "      <td>0.867639</td>\n",
       "      <td>-0.007768</td>\n",
       "      <td>0.974501</td>\n",
       "    </tr>\n",
       "    <tr>\n",
       "      <th>24442</th>\n",
       "      <td>(laundry detergent)</td>\n",
       "      <td>(coffee/tea, ice cream)</td>\n",
       "      <td>0.378402</td>\n",
       "      <td>0.165057</td>\n",
       "      <td>0.052678</td>\n",
       "      <td>0.139211</td>\n",
       "      <td>0.843412</td>\n",
       "      <td>-0.009780</td>\n",
       "      <td>0.969974</td>\n",
       "    </tr>\n",
       "    <tr>\n",
       "      <th>24439</th>\n",
       "      <td>(coffee/tea, ice cream)</td>\n",
       "      <td>(laundry detergent)</td>\n",
       "      <td>0.165057</td>\n",
       "      <td>0.378402</td>\n",
       "      <td>0.052678</td>\n",
       "      <td>0.319149</td>\n",
       "      <td>0.843412</td>\n",
       "      <td>-0.009780</td>\n",
       "      <td>0.912972</td>\n",
       "    </tr>\n",
       "  </tbody>\n",
       "</table>\n",
       "</div>"
      ],
      "text/plain": [
       "                          antecedents                     consequents  \\\n",
       "12093                          (beef)     (butter, laundry detergent)   \n",
       "12092     (butter, laundry detergent)                          (beef)   \n",
       "24441                    (coffee/tea)  (laundry detergent, ice cream)   \n",
       "24440  (laundry detergent, ice cream)                    (coffee/tea)   \n",
       "46754            (tortillas, poultry)                       (waffles)   \n",
       "46755                       (waffles)            (tortillas, poultry)   \n",
       "34218             (fruits, ice cream)                          (pork)   \n",
       "34223                          (pork)             (fruits, ice cream)   \n",
       "24442             (laundry detergent)         (coffee/tea, ice cream)   \n",
       "24439         (coffee/tea, ice cream)             (laundry detergent)   \n",
       "\n",
       "       antecedent support  consequent support   support  confidence      lift  \\\n",
       "12093            0.374890            0.158033  0.051800    0.138173  0.874330   \n",
       "12092            0.158033            0.374890  0.051800    0.327778  0.874330   \n",
       "24441            0.379280            0.158911  0.052678    0.138889  0.874002   \n",
       "24440            0.158911            0.379280  0.052678    0.331492  0.874002   \n",
       "46754            0.171203            0.394205  0.058824    0.343590  0.871601   \n",
       "46755            0.394205            0.171203  0.058824    0.149220  0.871601   \n",
       "34218            0.165057            0.355575  0.050922    0.308511  0.867639   \n",
       "34223            0.355575            0.165057  0.050922    0.143210  0.867639   \n",
       "24442            0.378402            0.165057  0.052678    0.139211  0.843412   \n",
       "24439            0.165057            0.378402  0.052678    0.319149  0.843412   \n",
       "\n",
       "       leverage  conviction  \n",
       "12093 -0.007445    0.976956  \n",
       "12092 -0.007445    0.929915  \n",
       "24441 -0.007594    0.976748  \n",
       "24440 -0.007594    0.928515  \n",
       "46754 -0.008666    0.922890  \n",
       "46755 -0.008666    0.974162  \n",
       "34218 -0.007768    0.931938  \n",
       "34223 -0.007768    0.974501  \n",
       "24442 -0.009780    0.969974  \n",
       "24439 -0.009780    0.912972  "
      ]
     },
     "execution_count": 32,
     "metadata": {},
     "output_type": "execute_result"
    }
   ],
   "source": [
    "basket.tail(10)"
   ]
  },
  {
   "cell_type": "code",
   "execution_count": null,
   "metadata": {},
   "outputs": [],
   "source": []
  }
 ],
 "metadata": {
  "kernelspec": {
   "display_name": "Python 3",
   "language": "python",
   "name": "python3"
  },
  "language_info": {
   "codemirror_mode": {
    "name": "ipython",
    "version": 3
   },
   "file_extension": ".py",
   "mimetype": "text/x-python",
   "name": "python",
   "nbconvert_exporter": "python",
   "pygments_lexer": "ipython3",
   "version": "3.7.6"
  }
 },
 "nbformat": 4,
 "nbformat_minor": 4
}
